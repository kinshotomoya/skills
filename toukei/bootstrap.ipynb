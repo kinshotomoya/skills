{
 "cells": [
  {
   "cell_type": "code",
   "execution_count": 14,
   "metadata": {},
   "outputs": [
    {
     "name": "stdout",
     "output_type": "stream",
     "text": [
      "ブートストラップ法によるp値： 0.5235\n",
      "t検定によるp値： 0.19977342364114456\n"
     ]
    }
   ],
   "source": [
    "import matplotlib.pyplot as plt\n",
    "import numpy as np\n",
    "from scipy.stats import ttest_ind\n",
    "\n",
    "# グループAのデータ\n",
    "groupA = np.array([1.2, 1.5, 0.8, 1.0, 1.3, 1.1, 1.6, 0.9, 1.2, 1.3])\n",
    "\n",
    "# グループBのデータ\n",
    "groupB = np.array([0.9, 1.1, 0.7, 1.2, 1.0, 1.3, 1.1, 1.0, 0.8, 1.4])\n",
    "\n",
    "# 2つのグループの平均値の差を求める\n",
    "mean_diff = np.mean(groupA) - np.mean(groupB)\n",
    "\n",
    "# ブートストラップ法を使って、平均値の差の分布を求める\n",
    "n_bootstrap = 10000 # サンプル数\n",
    "bootstrap_diffs = np.zeros(n_bootstrap)\n",
    "for i in range(n_bootstrap):\n",
    "    sampleA = np.random.choice(groupA, size=len(groupA), replace=True)\n",
    "    sampleB = np.random.choice(groupB, size=len(groupB), replace=True)\n",
    "    bootstrap_diffs[i] = np.mean(sampleA) - np.mean(sampleB)\n",
    "\n",
    "# 分布からp値を求める\n",
    "# 元の平均値の差以上の差が出たサンプルの確率を求めている\n",
    "# 帰無仮説（２つのグループの平均値に差はない）が成立する確率を求める（元の統計量以上の値が得られる確率）\n",
    "# これが0.05以上なら帰無仮説は採択、0.05未満なら棄却される\n",
    "p_value = np.sum(bootstrap_diffs >= mean_diff) / n_bootstrap\n",
    "\n",
    "# t検定を行う\n",
    "t_statistic, t_p_value = ttest_ind(groupA, groupB, equal_var=False)\n",
    "\n",
    "# 結果を表示する\n",
    "print(\"ブートストラップ法によるp値：\", p_value)\n",
    "print(\"t検定によるp値：\", t_p_value)"
   ]
  },
  {
   "attachments": {},
   "cell_type": "markdown",
   "metadata": {},
   "source": []
  }
 ],
 "metadata": {
  "kernelspec": {
   "display_name": "Python 3",
   "language": "python",
   "name": "python3"
  },
  "language_info": {
   "codemirror_mode": {
    "name": "ipython",
    "version": 3
   },
   "file_extension": ".py",
   "mimetype": "text/x-python",
   "name": "python",
   "nbconvert_exporter": "python",
   "pygments_lexer": "ipython3",
   "version": "3.11.2"
  },
  "orig_nbformat": 4
 },
 "nbformat": 4,
 "nbformat_minor": 2
}
